{
 "cells": [
  {
   "cell_type": "markdown",
   "metadata": {},
   "source": [
    "# Importance weighted autoencoder in Tensorflow"
   ]
  },
  {
   "cell_type": "code",
   "execution_count": 1,
   "metadata": {},
   "outputs": [],
   "source": [
    "import numpy as np\n",
    "import tensorflow as tf\n",
    "\n",
    "import matplotlib.pyplot as plt\n",
    "%matplotlib inline"
   ]
  },
  {
   "cell_type": "code",
   "execution_count": 3,
   "metadata": {},
   "outputs": [],
   "source": [
    "batch_size = 128\n",
    "y_dim = 10"
   ]
  },
  {
   "cell_type": "code",
   "execution_count": 5,
   "metadata": {},
   "outputs": [],
   "source": [
    "Y = tf.placeholder(tf.float32, [batch_size, y_dim])"
   ]
  },
  {
   "cell_type": "code",
   "execution_count": 8,
   "metadata": {},
   "outputs": [],
   "source": [
    "yb = tf.reshape(Y, tf.stack([batch_size, 1, 1, y_dim]))"
   ]
  },
  {
   "cell_type": "code",
   "execution_count": 23,
   "metadata": {},
   "outputs": [
    {
     "data": {
      "text/plain": [
       "(3, 192, 216, 100)"
      ]
     },
     "execution_count": 23,
     "metadata": {},
     "output_type": "execute_result"
    }
   ],
   "source": [
    "sess = tf.Session()\n",
    "\n",
    "batch_size = 3\n",
    "X = tf.constant(0.1, shape=[batch_size, 1920, 1080, 4])\n",
    "w = tf.constant(0.1, shape=[10, 5, 4, 100])\n",
    "\n",
    "h1 = tf.nn.conv2d(X, w, strides=[1, 10, 5, 1], padding='SAME')\n",
    "sess.run(h1).shape"
   ]
  },
  {
   "cell_type": "code",
   "execution_count": 5,
   "metadata": {},
   "outputs": [],
   "source": [
    "def xavier_init(fan_in, fan_out, constant=1):\n",
    "    \"\"\"Xaiver initialization of network weights\n",
    "    \"\"\"\n",
    "    low = -constant*np.sqrt(6.0/(fan_in + fan_out))\n",
    "    high = constant*np.sqrt(6.0/(fan_in + fan_out))\n",
    "    return tf.random_uniform((fan_in, fan_out),\n",
    "                            minval=low, maxval=high,\n",
    "                            dtype=tf.float32)\n",
    "    "
   ]
  },
  {
   "cell_type": "code",
   "execution_count": null,
   "metadata": {},
   "outputs": [],
   "source": [
    "class VariationalAutoencoder(object):\n",
    "    \"\"\"Variatioinal Autoencoder with an sklearn-like interface implemented using TensorFlow.\n",
    "    \"\"\"\n",
    "    def __init__(self, network_architecture, transfer_fct=tf.nn.softplus,\n",
    "                 learning_rate=0.001, batch_size=100):\n",
    "        self.network_architecture = network_architecture\n",
    "        self.transfer_fct = transfer_fct\n",
    "        slef.learning_rate = learning_rate\n",
    "        self.batch_size = batch_size\n",
    "        \n",
    "        # tf.Graph input\n",
    "        self.x = tf.placeholder(tf.float32, [None, network_architecture[\"n_input\"]])\n",
    "        \n",
    "        # Create autoencoder network\n",
    "        self._create_network()\n",
    "        \n",
    "        # 変分上限に基づくロス関数それに対するオプティマイザを定義\n",
    "        self._create_loss_optimizer()\n",
    "        \n",
    "        # tensorflow 変数の初期化関数\n",
    "        init = tf.global_variables_initializer()\n",
    "        \n",
    "        # sessionの開始\n",
    "        self.sess = tf.InteractiveSession()\n",
    "        self.sess.run(init)\n",
    "        \n",
    "    def _create_network(self):\n",
    "        network_weights = self._initialize_weights(**self.network_architecture)\n",
    "        \n",
    "        self.z_mean, slef.z_log_sigma_sq = \\\n",
    "            self._recognition_network(network_weights['weights_recog'],\n",
    "                                      network_weights['biases_gener'])\n",
    "    \n",
    "    def _initialize_weights(self, n_hidden_recog_1, n_hidden_recog_22,\n",
    "                            n_hidden_gener_1, n_hidden_gener_2,\n",
    "                            n_input, n_z):\n",
    "        all_weights = dict()\n",
    "        all_weights['weights_recog'] = {\n",
    "            'h1' : tf.Variable(xaiver_init(n_input, n_hidden_recod_1)),\n",
    "            'h2' : tf.Variable(xaiver_init(n_hidden_recog_1, n_hidden_recog_2)),\n",
    "            'out_mean' : tf.Variable(xaaiver_init(n_hidden_recog_2, n_z)),\n",
    "            'out_log_sigma' : tf.Vairable(xaiver_init(n_hidden_recog_2, n_z))\n",
    "        }\n",
    "        all_weights['biases_recog'] = {\n",
    "            'b1' : tf.Variable(tf.zeros([n_hidden_recog_1], dtype=tf.float32)),\n",
    "            'b2' : tf.Variable(tf.zeros([n_hidden_recog_2], dtype=tf.float32)),\n",
    "            'out_mean' : tf.Variable(xaiver)\n",
    "        }\n",
    "    "
   ]
  }
 ],
 "metadata": {
  "kernelspec": {
   "display_name": "Python 3",
   "language": "python",
   "name": "python3"
  },
  "language_info": {
   "codemirror_mode": {
    "name": "ipython",
    "version": 3
   },
   "file_extension": ".py",
   "mimetype": "text/x-python",
   "name": "python",
   "nbconvert_exporter": "python",
   "pygments_lexer": "ipython3",
   "version": "3.6.5"
  }
 },
 "nbformat": 4,
 "nbformat_minor": 2
}
