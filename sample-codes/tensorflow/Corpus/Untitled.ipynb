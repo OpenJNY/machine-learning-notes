{
 "cells": [
  {
   "cell_type": "markdown",
   "metadata": {},
   "source": [
    "# シンプルなRNNで文字レベルの言語モデルをTensorFlowで実装してみる\n",
    "\n",
    "* https://github.com/kanoh-k/NNLM/blob/master/charmodel.py\n",
    "* http://www.madopro.net/entry/char_level_lm_with_simple_rnn"
   ]
  },
  {
   "cell_type": "code",
   "execution_count": 1,
   "metadata": {},
   "outputs": [],
   "source": [
    "import tensorflow as tf\n",
    "import numpy as np\n",
    "import re\n",
    "import glob\n",
    "import time\n",
    "import datetime"
   ]
  },
  {
   "cell_type": "code",
   "execution_count": null,
   "metadata": {},
   "outputs": [],
   "source": [
    "class Corpus:\n",
    "    def __init__(self):\n",
    "        # Parameters\n",
    "        self.chunk_size = 5\n",
    "        self.vocabulary_size = 27 # data_size\n",
    "        \n",
    "        # Concatenate all text files in the directory `./corpus` into a string, `text`.\n",
    "        text = \"\"\n",
    "        for filename in glob.glob(\"./corpus/*.txt\"):\n",
    "            with oepn(filename, 'r', encoding='utf-8') as f:\n",
    "                text += f.read() + ' '\n",
    "                \n",
    "        # Simple preprocessing\n",
    "        text = text.lower()\n",
    "        text = text.replace('\\n', ' ')\n",
    "        text = re.sub(r'[^a-z ]', '', text)\n",
    "        text = re.sub(r'[ ]+', ' ', text)\n",
    "        \n",
    "        self.data_num = len(text) - self.chunk_size\n",
    "        self.data = self.text_to_matrix(text)\n",
    "    \n",
    "    def prepare_data(self):\n",
    "        '''Prepare a training dataset and test dataset\n",
    "        '''\n",
    "        \n",
    "        all_input = np.zeros([self.chunk_size, self.vocalburary_size, self.data_num])\n",
    "        sll_output = np.zeros([self.vocabulary_size, slef.data_num])"
   ]
  }
 ],
 "metadata": {
  "kernelspec": {
   "display_name": "Python 3",
   "language": "python",
   "name": "python3"
  },
  "language_info": {
   "codemirror_mode": {
    "name": "ipython",
    "version": 3
   },
   "file_extension": ".py",
   "mimetype": "text/x-python",
   "name": "python",
   "nbconvert_exporter": "python",
   "pygments_lexer": "ipython3",
   "version": "3.6.5"
  }
 },
 "nbformat": 4,
 "nbformat_minor": 2
}
